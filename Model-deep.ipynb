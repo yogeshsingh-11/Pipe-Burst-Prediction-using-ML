{
 "cells": [
  {
   "cell_type": "code",
   "execution_count": null,
   "metadata": {},
   "outputs": [],
   "source": [
    "import os\n",
    "import pandas as pd\n",
    "import numpy as np\n",
    "import matplotlib.pyplot as plt\n",
    "from sklearn.preprocessing import MinMaxScaler\n",
    "from tensorflow.keras.models import Sequential\n",
    "from tensorflow.keras.layers import LSTM, Dense, Dropout\n"
   ]
  },
  {
   "cell_type": "code",
   "execution_count": null,
   "metadata": {},
   "outputs": [],
   "source": [
    "# Define the folder containing CSV files\n",
    "folder_path = r'Preprocessed_Data\\node22c Oct23_Jan24'\n",
    "\n",
    "# Read and combine all CSV files\n",
    "csv_files = [os.path.join(folder_path, file) for file in os.listdir(folder_path) if file.endswith('.csv')]\n",
    "data = pd.concat([pd.read_csv(file) for file in csv_files])\n",
    "\n",
    "# Ensure 'Date Time' is in datetime format\n",
    "data['Date Time'] = pd.to_datetime(data['Date Time'])\n",
    "data = data.sort_values('Date Time').reset_index(drop=True)\n"
   ]
  },
  {
   "cell_type": "code",
   "execution_count": null,
   "metadata": {},
   "outputs": [],
   "source": [
    "# Define a burst threshold for Pressure (95th percentile as an example)\n",
    "burst_threshold = data['Slave_Device1_CH3_Pressure BAR'].quantile(0.95)\n",
    "\n",
    "# Create a burst indicator column\n",
    "data['Burst'] = (data['Slave_Device1_CH3_Pressure BAR'] > burst_threshold).astype(int)\n"
   ]
  },
  {
   "cell_type": "code",
   "execution_count": null,
   "metadata": {},
   "outputs": [],
   "source": [
    "# Select features and target\n",
    "features = ['Slave_Device1_CH1_FLOW m3/h', 'Slave_Device1_CH2_VELOCITY m/s', 'Slave_Device1_CH3_Pressure BAR']\n",
    "target = 'Burst'\n",
    "\n",
    "# Scale features\n",
    "scaler = MinMaxScaler()\n",
    "data[features] = scaler.fit_transform(data[features])\n",
    "\n",
    "# Define the sequence length (e.g., 30 timesteps)\n",
    "sequence_length = 30\n",
    "\n",
    "# Create sequences of data\n",
    "X = []\n",
    "y = []\n",
    "for i in range(sequence_length, len(data)):\n",
    "    X.append(data[features].iloc[i-sequence_length:i].values)\n",
    "    y.append(data[target].iloc[i])\n",
    "\n",
    "X = np.array(X)\n",
    "y = np.array(y)\n"
   ]
  },
  {
   "cell_type": "code",
   "execution_count": null,
   "metadata": {},
   "outputs": [],
   "source": [
    "# Split the data into training and testing sets\n",
    "split_index = int(len(X) * 0.8)\n",
    "X_train, X_test = X[:split_index], X[split_index:]\n",
    "y_train, y_test = y[:split_index], y[split_index:]\n",
    "\n",
    "# Build the LSTM model\n",
    "model = Sequential([\n",
    "    LSTM(50, return_sequences=True, input_shape=(X_train.shape[1], X_train.shape[2])),\n",
    "    Dropout(0.2),\n",
    "    LSTM(50, return_sequences=False),\n",
    "    Dropout(0.2),\n",
    "    Dense(1, activation='sigmoid')  # Sigmoid activation for binary classification\n",
    "])\n",
    "\n",
    "model.compile(optimizer='adam', loss='binary_crossentropy', metrics=['accuracy'])\n",
    "history = model.fit(X_train, y_train, epochs=10, batch_size=32, validation_split=0.2)\n"
   ]
  },
  {
   "cell_type": "code",
   "execution_count": null,
   "metadata": {},
   "outputs": [],
   "source": [
    "# Predict on the test set\n",
    "y_pred = model.predict(X_test)\n",
    "y_pred_class = (y_pred.flatten() > 0.5).astype(int)\n",
    "\n",
    "# Get corresponding dates for predictions\n",
    "predicted_burst_dates = data['Date Time'].iloc[split_index + sequence_length:][y_pred_class == 1]\n",
    "print(\"Predicted burst dates:\")\n",
    "print(predicted_burst_dates)\n"
   ]
  },
  {
   "cell_type": "code",
   "execution_count": null,
   "metadata": {},
   "outputs": [],
   "source": [
    "# Plot the Pressure with actual and predicted bursts highlighted\n",
    "plt.figure(figsize=(14, 6))\n",
    "\n",
    "# Plot Pressure curve\n",
    "plt.plot(data['Date Time'], data['Slave_Device1_CH3_Pressure BAR'], label='Pressure', color='blue')\n",
    "\n",
    "# Highlight actual burst events\n",
    "plt.scatter(data.loc[data['Burst'] == 1, 'Date Time'], \n",
    "            data.loc[data['Burst'] == 1, 'Slave_Device1_CH3_Pressure BAR'], \n",
    "            color='red', label='Actual Burst Event', marker='x')\n",
    "\n",
    "# Highlight predicted burst events\n",
    "plt.scatter(predicted_burst_dates, \n",
    "            data.loc[data['Date Time'].isin(predicted_burst_dates), 'Slave_Device1_CH3_Pressure BAR'], \n",
    "            color='green', label='Predicted Burst Event', marker='o')\n",
    "\n",
    "# Formatting the plot\n",
    "plt.xlabel('Date Time')\n",
    "plt.ylabel('Pressure (BAR)')\n",
    "plt.title('Pressure over Time with Burst Events')\n",
    "plt.legend()\n",
    "plt.show()\n"
   ]
  }
 ],
 "metadata": {
  "language_info": {
   "name": "python"
  }
 },
 "nbformat": 4,
 "nbformat_minor": 2
}
